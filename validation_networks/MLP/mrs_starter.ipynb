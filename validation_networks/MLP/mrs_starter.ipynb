{
 "cells": [
  {
   "cell_type": "code",
   "execution_count": 32,
   "metadata": {
    "collapsed": false
   },
   "outputs": [],
   "source": [
    "import numpy as np\n",
    "import scipy.io\n",
    "import h5py\n",
    "import sklearn.neural_network"
   ]
  },
  {
   "cell_type": "code",
   "execution_count": 31,
   "metadata": {
    "collapsed": false
   },
   "outputs": [
    {
     "name": "stdout",
     "output_type": "stream",
     "text": [
      "Keys: [u'X_test', u'X_tr_ns', u'Y_cr_tr', u'Y_cr_ts', u'Y_naa_tr', u'Y_naa_ts', u'Y_pch_tr', u'Y_pch_ts']\n"
     ]
    }
   ],
   "source": [
    "#hdf5_data = h5py.File('MRS_forDL_120617.mat')\n",
    "hdf5_data = h5py.File('MRS_CSI_DL.mat')\n",
    "print 'Keys:', hdf5_data.keys()"
   ]
  },
  {
   "cell_type": "code",
   "execution_count": 42,
   "metadata": {
    "collapsed": false
   },
   "outputs": [
    {
     "name": "stdout",
     "output_type": "stream",
     "text": [
      "X_train: (1044014, 263)\n",
      "X_test: (10546, 263)\n",
      "Y_naa_tr: (1044014, 1)\n",
      "Y_naa_ts: (10546, 1)\n",
      "Y_pch_tr: (1044014, 1)\n",
      "Y_pch_ts: (10546, 1)\n",
      "Y_cr_tr: (1044014, 1)\n",
      "Y_cr_ts: (10546, 1)\n"
     ]
    }
   ],
   "source": [
    "X_train = np.array(hdf5_data['X_tr_ns']).transpose((1,0))\n",
    "print 'X_train:', X_train.shape\n",
    "\n",
    "X_test = np.array(hdf5_data['X_test']).transpose((1,0))\n",
    "print 'X_test:', X_test.shape \n",
    "\n",
    "Y_naa_tr = np.array(hdf5_data['Y_naa_tr']).transpose((1,0))\n",
    "print 'Y_naa_tr:', Y_naa_tr.shape\n",
    "\n",
    "Y_naa_ts = np.array(hdf5_data['Y_naa_ts']).transpose((1,0))\n",
    "print 'Y_naa_ts:', Y_naa_ts.shape\n",
    "\n",
    "Y_pch_tr = np.array(hdf5_data['Y_pch_tr']).transpose((1,0))\n",
    "print 'Y_pch_tr:', Y_pch_tr.shape\n",
    "\n",
    "Y_pch_ts = np.array(hdf5_data['Y_pch_ts']).transpose((1,0))\n",
    "print 'Y_pch_ts:', Y_pch_ts.shape\n",
    "\n",
    "#Y_cr_tr = np.array(hdf5_data['Y_cr_tr']).transpose((1,0))\n",
    "#print 'Y_cr_tr:', Y_cr_tr.shape\n",
    "\n",
    "#Y_cr_ts = np.array(hdf5_data['Y_cr_ts']).transpose((1,0))\n",
    "#print 'Y_cr_ts:', Y_cr_ts.shape"
   ]
  },
  {
   "cell_type": "code",
   "execution_count": 43,
   "metadata": {
    "collapsed": false
   },
   "outputs": [
    {
     "name": "stdout",
     "output_type": "stream",
     "text": [
      "Y_train: (1044014, 3)\n",
      "Y_test: (10546, 3)\n"
     ]
    }
   ],
   "source": [
    "# Train data\n",
    "Y_train = np.concatenate((Y_naa_tr, Y_pch_tr, Y_cr_tr),axis = 1)\n",
    "print 'Y_train:', Y_train.shape \n",
    "# Test data\n",
    "Y_test = np.concatenate((Y_naa_ts, Y_pch_ts, Y_cr_ts),axis = 1)\n",
    "print 'Y_test:', Y_test.shape"
   ]
  },
  {
   "cell_type": "code",
   "execution_count": 47,
   "metadata": {
    "collapsed": true
   },
   "outputs": [],
   "source": [
    "# Multilayer perceptron\n",
    "regressor = sklearn.neural_network.MLPRegressor(hidden_layer_sizes=(100,100,100,), \n",
    "                                                activation='relu', \n",
    "                                                solver='adam', \n",
    "                                                learning_rate_init = 0.001, \n",
    "                                                max_iter=10000,\n",
    "                                                momentum=0.9, \n",
    "                                                nesterovs_momentum=True, \n",
    "                                                early_stopping=True, \n",
    "                                                validation_fraction=0.1,\n",
    "                                                verbose=True)"
   ]
  },
  {
   "cell_type": "code",
   "execution_count": 48,
   "metadata": {
    "collapsed": false
   },
   "outputs": [
    {
     "name": "stdout",
     "output_type": "stream",
     "text": [
      "Iteration 1, loss = 0.10713412\n",
      "Validation score: 0.958787\n",
      "Iteration 2, loss = 0.05083925\n",
      "Validation score: 0.964803\n",
      "Iteration 3, loss = 0.04709373\n",
      "Validation score: 0.967245\n",
      "Iteration 4, loss = 0.04492102\n",
      "Validation score: 0.970317\n",
      "Iteration 5, loss = 0.04399726\n",
      "Validation score: 0.962837\n",
      "Iteration 6, loss = 0.04284135\n",
      "Validation score: 0.962651\n",
      "Iteration 7, loss = 0.04255467\n",
      "Validation score: 0.963671\n",
      "Validation score did not improve more than tol=0.000100 for two consecutive epochs. Stopping.\n"
     ]
    },
    {
     "data": {
      "text/plain": [
       "MLPRegressor(activation='relu', alpha=0.0001, batch_size='auto', beta_1=0.9,\n",
       "       beta_2=0.999, early_stopping=True, epsilon=1e-08,\n",
       "       hidden_layer_sizes=(100, 100, 100), learning_rate='constant',\n",
       "       learning_rate_init=0.001, max_iter=10000, momentum=0.9,\n",
       "       nesterovs_momentum=True, power_t=0.5, random_state=None,\n",
       "       shuffle=True, solver='adam', tol=0.0001, validation_fraction=0.1,\n",
       "       verbose=True, warm_start=False)"
      ]
     },
     "execution_count": 48,
     "metadata": {},
     "output_type": "execute_result"
    }
   ],
   "source": [
    "regressor.fit(X_train, Y_train)"
   ]
  },
  {
   "cell_type": "code",
   "execution_count": 49,
   "metadata": {
    "collapsed": true
   },
   "outputs": [],
   "source": [
    "Y_predicted = regressor.predict(X_test)"
   ]
  },
  {
   "cell_type": "code",
   "execution_count": 52,
   "metadata": {
    "collapsed": false
   },
   "outputs": [
    {
     "name": "stdout",
     "output_type": "stream",
     "text": [
      "0.1063033824\n"
     ]
    }
   ],
   "source": [
    "# Error in prediction\n",
    "error = np.mean((Y_test - Y_predicted)**2)\n",
    "print error"
   ]
  },
  {
   "cell_type": "code",
   "execution_count": 53,
   "metadata": {
    "collapsed": false
   },
   "outputs": [
    {
     "name": "stdout",
     "output_type": "stream",
     "text": [
      "Index 9732\n",
      "Actual: [ 1.83333337  1.16666663  1.        ]\n",
      "Predicted [ 1.7599638   1.11776961  1.00174551]\n",
      "Index 959\n",
      "Actual: [ 0.33333334  1.33333337  1.        ]\n",
      "Predicted [ 0.38723439  1.23683883  1.01124037]\n",
      "Index 4468\n",
      "Actual: [ 2.   1.5  1. ]\n",
      "Predicted [ 2.22777743  1.53253037  0.98571432]\n",
      "Index 8791\n",
      "Actual: [ 1.5   0.25  1.  ]\n",
      "Predicted [ 1.44170874  0.21014109  0.9922208 ]\n",
      "Index 1106\n",
      "Actual: [ 0.5   0.75  1.  ]\n",
      "Predicted [ 0.44933315  0.70811092  0.97656984]\n",
      "Index 9806\n",
      "Actual: [ 0.54545456  0.90909094  1.        ]\n",
      "Predicted [ 0.52401347  0.86405801  0.98917228]\n",
      "Index 3697\n",
      "Actual: [ 0.27272728  0.54545456  1.        ]\n",
      "Predicted [ 0.23405641  0.53354579  0.9855922 ]\n",
      "Index 6884\n",
      "Actual: [ 0.5         1.10000002  1.        ]\n",
      "Predicted [ 0.5315074   1.10245318  0.99219991]\n",
      "Index 7622\n",
      "Actual: [ 0.90909094  0.90909094  1.        ]\n",
      "Predicted [ 0.92260346  0.88691785  1.0319793 ]\n",
      "Index 4827\n",
      "Actual: [ 0.          3.33333325  1.        ]\n",
      "Predicted [ 0.16296436  3.72601281  1.0156793 ]\n"
     ]
    }
   ],
   "source": [
    "# Randomly sample 10 elements\n",
    "idxs = np.random.choice(X_test.shape[0], 10, replace=False)\n",
    "for idx in idxs:\n",
    "    print 'Index', idx\n",
    "    print 'Actual:', Y_test[idx,:]\n",
    "    print 'Predicted', Y_predicted[idx,:]"
   ]
  },
  {
   "cell_type": "code",
   "execution_count": 54,
   "metadata": {
    "collapsed": true
   },
   "outputs": [],
   "source": [
    "# Write as a mat file\n",
    "predictions_dict = {'Y_naa_pred': Y_predicted[:,0],\n",
    "               'Y_pch_pred': Y_predicted[:,1],\n",
    "               'Y_cr_pred': Y_predicted[:,2]}\n",
    "\n",
    "scipy.io.savemat('predictions.mat', predictions_dict)"
   ]
  },
  {
   "cell_type": "code",
   "execution_count": null,
   "metadata": {
    "collapsed": true
   },
   "outputs": [],
   "source": []
  }
 ],
 "metadata": {
  "kernelspec": {
   "display_name": "Python 2",
   "language": "python",
   "name": "python2"
  },
  "language_info": {
   "codemirror_mode": {
    "name": "ipython",
    "version": 2
   },
   "file_extension": ".py",
   "mimetype": "text/x-python",
   "name": "python",
   "nbconvert_exporter": "python",
   "pygments_lexer": "ipython2",
   "version": "2.7.12"
  }
 },
 "nbformat": 4,
 "nbformat_minor": 0
}
